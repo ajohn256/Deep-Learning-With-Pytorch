{
  "nbformat": 4,
  "nbformat_minor": 0,
  "metadata": {
    "colab": {
      "provenance": [],
      "authorship_tag": "ABX9TyMzx9L/tNrydUNIL8VHCWZE",
      "include_colab_link": true
    },
    "kernelspec": {
      "name": "python3",
      "display_name": "Python 3"
    },
    "language_info": {
      "name": "python"
    }
  },
  "cells": [
    {
      "cell_type": "markdown",
      "metadata": {
        "id": "view-in-github",
        "colab_type": "text"
      },
      "source": [
        "<a href=\"https://colab.research.google.com/github/ajohn256/Deep-Learning-With-Pytorch/blob/main/Softmax.ipynb\" target=\"_parent\"><img src=\"https://colab.research.google.com/assets/colab-badge.svg\" alt=\"Open In Colab\"/></a>"
      ]
    },
    {
      "cell_type": "code",
      "execution_count": 1,
      "metadata": {
        "id": "Mfje00WSI6Ss"
      },
      "outputs": [],
      "source": [
        "import numpy as np\n",
        "import torch\n",
        "import torch.nn as nn"
      ]
    },
    {
      "cell_type": "markdown",
      "source": [
        "#  **Softmax(xi) = exp(xi) / ∑j exp(xj)**\n",
        "\n",
        "Softmax is a mathematical function that transforms a vector of numbers into a probability distribution. The formula for Softmax is: Softmax(xi) = exp(xi) / ∑j exp(xj)123. The Softmax transform is always in the range [1, 4] and adds up to 1, hence forming a probability distribution2."
      ],
      "metadata": {
        "id": "xaXFoPTjJDiY"
      }
    },
    {
      "cell_type": "code",
      "source": [
        "x = np.array([2.0,1.0,0.1])"
      ],
      "metadata": {
        "id": "w-FgSx4DJObv"
      },
      "execution_count": 2,
      "outputs": []
    },
    {
      "cell_type": "code",
      "source": [
        "def softmax(x):\n",
        "  return np.exp(x) / np.sum(np.exp(x),axis=0)\n"
      ],
      "metadata": {
        "id": "PJDD3y_uJc4-"
      },
      "execution_count": 5,
      "outputs": []
    },
    {
      "cell_type": "code",
      "source": [
        "softmax(x)"
      ],
      "metadata": {
        "colab": {
          "base_uri": "https://localhost:8080/"
        },
        "id": "SVQ7RSCBJc8d",
        "outputId": "d94fa780-0e17-4b90-e160-c3a87a7253f8"
      },
      "execution_count": 6,
      "outputs": [
        {
          "output_type": "execute_result",
          "data": {
            "text/plain": [
              "array([0.65900114, 0.24243297, 0.09856589])"
            ]
          },
          "metadata": {},
          "execution_count": 6
        }
      ]
    },
    {
      "cell_type": "code",
      "source": [
        "x = torch.tensor([2.0,1.0,0.1])\n",
        "outputs = torch.softmax(x,dim=0)\n",
        "print(outputs)"
      ],
      "metadata": {
        "colab": {
          "base_uri": "https://localhost:8080/"
        },
        "id": "mK2yjcR2Jc_W",
        "outputId": "f19fb86b-4b2d-4917-973b-293a78138393"
      },
      "execution_count": 9,
      "outputs": [
        {
          "output_type": "stream",
          "name": "stdout",
          "text": [
            "tensor([0.6590, 0.2424, 0.0986])\n"
          ]
        }
      ]
    },
    {
      "cell_type": "code",
      "source": [],
      "metadata": {
        "id": "MmGsiE3wKEBR"
      },
      "execution_count": null,
      "outputs": []
    },
    {
      "cell_type": "code",
      "source": [],
      "metadata": {
        "id": "GczE_icnKEEt"
      },
      "execution_count": null,
      "outputs": []
    }
  ]
}