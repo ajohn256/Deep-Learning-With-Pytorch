{
  "cells": [
    {
      "cell_type": "markdown",
      "metadata": {
        "id": "view-in-github",
        "colab_type": "text"
      },
      "source": [
        "<a href=\"https://colab.research.google.com/github/ajohn256/Deep-Learning-With-Pytorch/blob/main/Pneumonia_Preditiction_Ready_To_Use.ipynb\" target=\"_parent\"><img src=\"https://colab.research.google.com/assets/colab-badge.svg\" alt=\"Open In Colab\"/></a>"
      ]
    },
    {
      "cell_type": "code",
      "execution_count": 1,
      "metadata": {
        "id": "_ITy3A6EU6Qz"
      },
      "outputs": [],
      "source": [
        "import torch\n",
        "from torchvision.datasets import ImageFolder\n",
        "from torchvision import transforms\n",
        "import os\n",
        "import torch.nn as nn\n",
        "from PIL import Image\n",
        "import torch.nn.functional as F"
      ]
    },
    {
      "cell_type": "code",
      "execution_count": 2,
      "metadata": {
        "id": "guydsGmFU6Q5"
      },
      "outputs": [],
      "source": [
        "class XrayClassifier(nn.Module):\n",
        "    def __init__(self):\n",
        "        super().__init__()\n",
        "        self.conv1 = nn.Conv2d(3,12,5)#12,252,252 //input_size(256) - kernal_size(5) + stride(1)\n",
        "        self.pool = nn.MaxPool2d(2,2)#12,126,126\n",
        "\n",
        "        self.conv2 = nn.Conv2d(12,24,5)#62-5 +1 >>(12,122,122) -> maxpool2d -> (12,61,61) -> flatten (12*29*29)\n",
        "\n",
        "        #fully connected layer\n",
        "        self.fc1 = nn.Linear(24 * 61 * 61, 120)\n",
        "        self.fc2 = nn.Linear(120, 84)\n",
        "        self.fc3 = nn.Linear(84, 10)\n",
        "\n",
        "\n",
        "\n",
        "    def forward(self, x):\n",
        "        x = self.pool(F.relu(self.conv1(x)))\n",
        "        x = self.pool(F.relu(self.conv2(x)))\n",
        "        # x = x.view(-1, 12 * 29 * 29)\n",
        "        x = torch.flatten(x,1)\n",
        "\n",
        "        x = F.relu(self.fc1(x))\n",
        "        x = F.relu(self.fc2(x))\n",
        "        x = self.fc3(x)\n",
        "        return x\n",
        ""
      ]
    },
    {
      "cell_type": "code",
      "execution_count": 3,
      "metadata": {
        "id": "eXzFdomsU6Q8"
      },
      "outputs": [],
      "source": [
        "classifier = XrayClassifier()"
      ]
    },
    {
      "cell_type": "code",
      "execution_count": 12,
      "metadata": {
        "colab": {
          "base_uri": "https://localhost:8080/"
        },
        "id": "YyfgjpfVU6Q-",
        "outputId": "80f3fcec-5d6f-4d87-eb19-6902bbaba714"
      },
      "outputs": [
        {
          "output_type": "stream",
          "name": "stderr",
          "text": [
            "<ipython-input-12-5e915505a5ee>:1: FutureWarning: You are using `torch.load` with `weights_only=False` (the current default value), which uses the default pickle module implicitly. It is possible to construct malicious pickle data which will execute arbitrary code during unpickling (See https://github.com/pytorch/pytorch/blob/main/SECURITY.md#untrusted-models for more details). In a future release, the default value for `weights_only` will be flipped to `True`. This limits the functions that could be executed during unpickling. Arbitrary objects will no longer be allowed to be loaded via this mode unless they are explicitly allowlisted by the user via `torch.serialization.add_safe_globals`. We recommend you start setting `weights_only=True` for any use case where you don't have full control of the loaded file. Please open an issue on GitHub for any issues related to this experimental feature.\n",
            "  result = classifier.load_state_dict(torch.load(\"./XRAY_Classification_model_UPDATED.pth\",map_location=torch.device('cpu')))\n"
          ]
        }
      ],
      "source": [
        "result = classifier.load_state_dict(torch.load(\"./XRAY_Classification_model_UPDATED.pth\",map_location=torch.device('cpu')))\n"
      ]
    },
    {
      "cell_type": "code",
      "source": [
        "# Check for missing or unexpected keys\n",
        "if result.missing_keys or result.unexpected_keys:\n",
        "    print(\"Warning: Some keys in the state dict were not loaded or were unexpected.\")\n",
        "    print(\"Missing keys:\", result.missing_keys)\n",
        "    print(\"Unexpected keys:\", result.unexpected_keys)\n",
        "\n",
        "model = classifier"
      ],
      "metadata": {
        "id": "tpR6acAgWK6q"
      },
      "execution_count": 13,
      "outputs": []
    },
    {
      "cell_type": "code",
      "execution_count": 14,
      "metadata": {
        "id": "tL6NnQSPU6RD"
      },
      "outputs": [],
      "source": [
        "def predict_image(image):\n",
        "    transform = transforms.Compose([\n",
        "                        transforms.Resize((256,256)),\n",
        "                        transforms.ToTensor(),\n",
        "                        # Convert the image to RGB format if it's grayscale\n",
        "                        transforms.Lambda(lambda image: image.repeat(3, 1, 1) if image.shape[0] == 1 else image),\n",
        "                        transforms.Normalize((0.5,0.5,0.5),(0.5,0.5,0.5))\n",
        "                    ])\n",
        "    image = Image.open(image).convert('RGB')\n",
        "    image_transform = transform(image)\n",
        "    image = image_transform.unsqueeze(0)\n",
        "    return image"
      ]
    },
    {
      "cell_type": "code",
      "execution_count": 15,
      "metadata": {
        "id": "HmWPX6y6U6RE"
      },
      "outputs": [],
      "source": [
        "class_names = ['Normal','Pneumonia']\n",
        "\n",
        "def predict_images(root):\n",
        "    for path, _ , files in os.walk(root):\n",
        "        for file in files:\n",
        "            x = path + \"/\" + file\n",
        "\n",
        "            # model.eval()\n",
        "            with torch.no_grad():\n",
        "                image = predict_image(x)\n",
        "                output = model(image)\n",
        "                _, predicted = torch.max(output,1)\n",
        "                print(f\"Prediction {x} is {class_names[predicted.item()]}\")\n",
        "\n",
        "\n",
        ""
      ]
    },
    {
      "cell_type": "code",
      "execution_count": 20,
      "metadata": {
        "colab": {
          "base_uri": "https://localhost:8080/"
        },
        "id": "LVB-lJigU6RY",
        "outputId": "af2eab60-3842-4714-f4ec-45a28c289cab"
      },
      "outputs": [
        {
          "output_type": "stream",
          "name": "stdout",
          "text": [
            "Prediction ./test/download (2).jpg is Pneumonia\n",
            "Prediction ./test/N3.jpg is Normal\n",
            "Prediction ./test/N2.jpg is Normal\n",
            "Prediction ./test/OIP.jpg is Pneumonia\n",
            "Prediction ./test/N1.jpg is Pneumonia\n",
            "Prediction ./test/download.jpg is Pneumonia\n",
            "Prediction ./test/th.jpg is Pneumonia\n",
            "Prediction ./test/download (1).jpg is Normal\n"
          ]
        }
      ],
      "source": [
        "new_path = \"./test\"\n",
        "predict_images(new_path)\n"
      ]
    }
  ],
  "metadata": {
    "kernelspec": {
      "display_name": "base",
      "language": "python",
      "name": "python3"
    },
    "language_info": {
      "codemirror_mode": {
        "name": "ipython",
        "version": 3
      },
      "file_extension": ".py",
      "mimetype": "text/x-python",
      "name": "python",
      "nbconvert_exporter": "python",
      "pygments_lexer": "ipython3",
      "version": "3.12.4"
    },
    "colab": {
      "provenance": [],
      "include_colab_link": true
    }
  },
  "nbformat": 4,
  "nbformat_minor": 0
}