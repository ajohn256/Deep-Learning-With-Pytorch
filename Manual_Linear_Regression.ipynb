{
  "nbformat": 4,
  "nbformat_minor": 0,
  "metadata": {
    "colab": {
      "provenance": [],
      "authorship_tag": "ABX9TyO+Qgcpwi8FDMXzEANn7YqY",
      "include_colab_link": true
    },
    "kernelspec": {
      "name": "python3",
      "display_name": "Python 3"
    },
    "language_info": {
      "name": "python"
    }
  },
  "cells": [
    {
      "cell_type": "markdown",
      "metadata": {
        "id": "view-in-github",
        "colab_type": "text"
      },
      "source": [
        "<a href=\"https://colab.research.google.com/github/ajohn256/Deep-Learning-With-Pytorch/blob/main/Manual_Linear_Regression.ipynb\" target=\"_parent\"><img src=\"https://colab.research.google.com/assets/colab-badge.svg\" alt=\"Open In Colab\"/></a>"
      ]
    },
    {
      "cell_type": "code",
      "execution_count": 45,
      "metadata": {
        "id": "zzOPEyf1lhUf"
      },
      "outputs": [],
      "source": [
        "import torch\n",
        "import torch.nn as nn"
      ]
    },
    {
      "cell_type": "code",
      "source": [
        "X = torch.tensor([[1],[2],[3],[4],[5]],dtype=torch.float32)\n",
        "y = torch.tensor([[2],[4],[6],[8],[10]],dtype=torch.float32)\n",
        "# w = torch.tensor(0.0,dtype=torch.float32,requires_grad=True)\n",
        "X_test = torch.tensor([5],dtype=torch.float32)"
      ],
      "metadata": {
        "id": "bFT1FTt0nmYF"
      },
      "execution_count": 46,
      "outputs": []
    },
    {
      "cell_type": "code",
      "source": [
        "n_sample, n_features = X.shape\n",
        "n_features"
      ],
      "metadata": {
        "colab": {
          "base_uri": "https://localhost:8080/"
        },
        "id": "QIxjhvlPnmb2",
        "outputId": "a848f4cb-2bd8-4cee-bdc9-ff44e7064f21"
      },
      "execution_count": 47,
      "outputs": [
        {
          "output_type": "execute_result",
          "data": {
            "text/plain": [
              "1"
            ]
          },
          "metadata": {},
          "execution_count": 47
        }
      ]
    },
    {
      "cell_type": "code",
      "source": [
        "input_size = n_features\n",
        "output_size = n_features"
      ],
      "metadata": {
        "id": "AkyHQxY_qv3A"
      },
      "execution_count": 48,
      "outputs": []
    },
    {
      "cell_type": "code",
      "source": [
        "# def forward(x):\n",
        "#   return w * x"
      ],
      "metadata": {
        "id": "nkLpIHm4nmgC"
      },
      "execution_count": 49,
      "outputs": []
    },
    {
      "cell_type": "code",
      "source": [
        "#custom linear regression model\n",
        "class LinearModel(nn.Module):\n",
        "  def __init__(self,input_dimensions,output_dimensions):\n",
        "    super(LinearModel,self).__init__()\n",
        "    #define layers\n",
        "    self.lin = nn.Linear(input_dimensions,output_dimensions)\n",
        "\n",
        "  def forward(self,x):\n",
        "    return self.lin(x)"
      ],
      "metadata": {
        "id": "aGuhwayXt1ZA"
      },
      "execution_count": 58,
      "outputs": []
    },
    {
      "cell_type": "code",
      "source": [
        "# model = nn.Linear(input_size,output_size)\n",
        "model = LinearModel(input_size,output_size)"
      ],
      "metadata": {
        "id": "v0mxV8mwqClM"
      },
      "execution_count": 59,
      "outputs": []
    },
    {
      "cell_type": "code",
      "source": [
        "[w, b] = model.parameters()\n",
        "b.item()"
      ],
      "metadata": {
        "colab": {
          "base_uri": "https://localhost:8080/"
        },
        "id": "Dg7QagC5rrX0",
        "outputId": "a607179b-e540-4fe6-ec33-dc9994f7cd68"
      },
      "execution_count": 60,
      "outputs": [
        {
          "output_type": "execute_result",
          "data": {
            "text/plain": [
              "-0.7025022506713867"
            ]
          },
          "metadata": {},
          "execution_count": 60
        }
      ]
    },
    {
      "cell_type": "code",
      "source": [
        "print(f\"Prediction before training: {model(X_test).item():.3f}\")"
      ],
      "metadata": {
        "colab": {
          "base_uri": "https://localhost:8080/"
        },
        "id": "jwyx6pN6rNEF",
        "outputId": "ef47ebd5-bc1f-4cb6-ae1b-0e70d5dc4789"
      },
      "execution_count": 61,
      "outputs": [
        {
          "output_type": "stream",
          "name": "stdout",
          "text": [
            "Prediction before training: 0.834\n"
          ]
        }
      ]
    },
    {
      "cell_type": "code",
      "source": [
        "lr = 1e-4\n",
        "epochs = 100\n",
        "loss = nn.MSELoss()\n",
        "optimizer = torch.optim.SGD(model.parameters(),lr=lr)"
      ],
      "metadata": {
        "id": "-oLzXH1Vnmjn"
      },
      "execution_count": 64,
      "outputs": []
    },
    {
      "cell_type": "code",
      "source": [
        "print(f\"Prediction before training: {model(X_test).item():.3f}\")\n",
        "\n",
        "for epoch in range(epochs):\n",
        "  y_pred = model(X)\n",
        "  l = loss(y,y_pred)\n",
        "  l.backward()\n",
        "\n",
        "  optimizer.step()\n",
        "  optimizer.zero_grad()\n",
        "\n",
        "  if epoch % 10 == 0:\n",
        "    w, b = model.parameters()\n",
        "    print(f\"Epoch = {epoch} Weight = {w.item()} Loss = {l}\")\n",
        "\n",
        "print(f\"Prediction After training: {model(X_test).item():.3f}\")\n"
      ],
      "metadata": {
        "colab": {
          "base_uri": "https://localhost:8080/"
        },
        "id": "86mDy7qEnmmy",
        "outputId": "340350c1-97f7-448b-d1e9-bf0025a254f5"
      },
      "execution_count": 66,
      "outputs": [
        {
          "output_type": "stream",
          "name": "stdout",
          "text": [
            "Prediction before training: 9.415\n",
            "Epoch = 0 Weight = 1.9320577383041382 Loss = 0.21067115664482117\n",
            "Epoch = 10 Weight = 1.934984564781189 Loss = 0.2012847661972046\n",
            "Epoch = 20 Weight = 1.9378423690795898 Loss = 0.19233307242393494\n",
            "Epoch = 30 Weight = 1.9406328201293945 Loss = 0.18379482626914978\n",
            "Epoch = 40 Weight = 1.9433574676513672 Loss = 0.17565181851387024\n",
            "Epoch = 50 Weight = 1.946017861366272 Loss = 0.1678854525089264\n",
            "Epoch = 60 Weight = 1.948615550994873 Loss = 0.16047807037830353\n",
            "Epoch = 70 Weight = 1.9511518478393555 Loss = 0.15341365337371826\n",
            "Epoch = 80 Weight = 1.953628420829773 Loss = 0.14667531847953796\n",
            "Epoch = 90 Weight = 1.9560465812683105 Loss = 0.14024899899959564\n",
            "Prediction After training: 9.555\n"
          ]
        }
      ]
    },
    {
      "cell_type": "code",
      "source": [],
      "metadata": {
        "id": "wF4LrHd2onrC"
      },
      "execution_count": 54,
      "outputs": []
    },
    {
      "cell_type": "code",
      "source": [],
      "metadata": {
        "id": "_hGcD8LJonoA"
      },
      "execution_count": 54,
      "outputs": []
    }
  ]
}