{
  "nbformat": 4,
  "nbformat_minor": 0,
  "metadata": {
    "colab": {
      "provenance": [],
      "authorship_tag": "ABX9TyMFUvEV6jsmbRZHmCTH5ZDV",
      "include_colab_link": true
    },
    "kernelspec": {
      "name": "python3",
      "display_name": "Python 3"
    },
    "language_info": {
      "name": "python"
    }
  },
  "cells": [
    {
      "cell_type": "markdown",
      "metadata": {
        "id": "view-in-github",
        "colab_type": "text"
      },
      "source": [
        "<a href=\"https://colab.research.google.com/github/ajohn256/Deep-Learning-With-Pytorch/blob/main/LINEAR_REGRESSION_WITH_PYTORCH.ipynb\" target=\"_parent\"><img src=\"https://colab.research.google.com/assets/colab-badge.svg\" alt=\"Open In Colab\"/></a>"
      ]
    },
    {
      "cell_type": "code",
      "execution_count": 23,
      "metadata": {
        "id": "UsopiOZ1uQPT"
      },
      "outputs": [],
      "source": [
        "import torch\n",
        "import torch.nn as nn\n",
        "import numpy as np\n",
        "from sklearn import datasets\n",
        "import matplotlib.pyplot as plt"
      ]
    },
    {
      "cell_type": "code",
      "source": [
        "# 1) Prepare dataset\n",
        "# 2) Design the model\n",
        "# 3) Define Loss and Optimizer\n",
        "# 4) Design tthe training loop"
      ],
      "metadata": {
        "id": "5dfnLVAmuW7M"
      },
      "execution_count": 24,
      "outputs": []
    },
    {
      "cell_type": "markdown",
      "source": [
        "**PREPARING DATA**"
      ],
      "metadata": {
        "id": "dJujNKiPv_9s"
      }
    },
    {
      "cell_type": "code",
      "source": [
        "X_numpy,y_numpy = datasets.make_regression(n_samples=100,n_features=1,noise=20,random_state=1)"
      ],
      "metadata": {
        "id": "mlreO0qouW96"
      },
      "execution_count": 25,
      "outputs": []
    },
    {
      "cell_type": "code",
      "source": [
        "X = torch.from_numpy(X_numpy.astype(np.float32))\n",
        "y = torch.from_numpy(y_numpy.astype(np.float32))"
      ],
      "metadata": {
        "id": "xN7ti7XNuXA0"
      },
      "execution_count": 26,
      "outputs": []
    },
    {
      "cell_type": "code",
      "source": [
        "y.shape[0]"
      ],
      "metadata": {
        "colab": {
          "base_uri": "https://localhost:8080/"
        },
        "id": "Tqqdk3zyvtpc",
        "outputId": "369df7e2-4c2d-47f3-e1fe-d9c1415c854f"
      },
      "execution_count": 27,
      "outputs": [
        {
          "output_type": "execute_result",
          "data": {
            "text/plain": [
              "100"
            ]
          },
          "metadata": {},
          "execution_count": 27
        }
      ]
    },
    {
      "cell_type": "code",
      "source": [
        "y = y.view(y.shape[0],1)"
      ],
      "metadata": {
        "id": "onPEFWJCuXDn"
      },
      "execution_count": 28,
      "outputs": []
    },
    {
      "cell_type": "code",
      "source": [
        "n_sample, n_features = X.shape\n",
        "n_features"
      ],
      "metadata": {
        "colab": {
          "base_uri": "https://localhost:8080/"
        },
        "id": "9QOJ1k0AuXGN",
        "outputId": "aae4bf1b-deec-4002-aa59-6798c0a4cf82"
      },
      "execution_count": 29,
      "outputs": [
        {
          "output_type": "execute_result",
          "data": {
            "text/plain": [
              "1"
            ]
          },
          "metadata": {},
          "execution_count": 29
        }
      ]
    },
    {
      "cell_type": "markdown",
      "source": [
        "**CREATING MODEL**"
      ],
      "metadata": {
        "id": "p95sNvtuwGif"
      }
    },
    {
      "cell_type": "code",
      "source": [
        "input_size = n_features\n",
        "output_size = 1\n",
        "model = nn.Linear(input_size,output_size)"
      ],
      "metadata": {
        "id": "KVCeECUIuXI8"
      },
      "execution_count": 30,
      "outputs": []
    },
    {
      "cell_type": "markdown",
      "source": [
        "**OPtimization**"
      ],
      "metadata": {
        "id": "qGo6SbC7wjSY"
      }
    },
    {
      "cell_type": "code",
      "source": [
        "lr = 1e-2\n",
        "criterion = nn.MSELoss()\n",
        "optimizer = torch.optim.SGD(model.parameters(),lr=lr)\n",
        "epochs = 100"
      ],
      "metadata": {
        "id": "MYpx9zSouXLg"
      },
      "execution_count": 38,
      "outputs": []
    },
    {
      "cell_type": "markdown",
      "source": [
        "Training **Model** **bold text**"
      ],
      "metadata": {
        "id": "PP_TCuL2wvlW"
      }
    },
    {
      "cell_type": "code",
      "source": [
        "for epoch in range(epochs):\n",
        "  #forward pass and loss computation\n",
        "  y_pred = model(X)\n",
        "  loss = criterion(y_pred,y)\n",
        "\n",
        "  #calculate gradients / back propagation\n",
        "  loss.backward()\n",
        "\n",
        "  #update the weights\n",
        "  optimizer.step()\n",
        "\n",
        "  #empty gradients\n",
        "  optimizer.zero_grad()\n",
        "\n",
        "  if epoch % 10 == 0:\n",
        "    print(f'epoch {epoch+1}: loss = {loss.item():.4f}')\n"
      ],
      "metadata": {
        "colab": {
          "base_uri": "https://localhost:8080/"
        },
        "id": "KyzlzK9bwzaG",
        "outputId": "5dcfd855-04b2-41dc-b0b2-5381c144e0af"
      },
      "execution_count": 39,
      "outputs": [
        {
          "output_type": "stream",
          "name": "stdout",
          "text": [
            "epoch 1: loss = 4130.3208\n",
            "epoch 11: loss = 3086.5042\n",
            "epoch 21: loss = 2331.3840\n",
            "epoch 31: loss = 1784.5240\n",
            "epoch 41: loss = 1388.0900\n",
            "epoch 51: loss = 1100.4375\n",
            "epoch 61: loss = 891.5381\n",
            "epoch 71: loss = 739.7119\n",
            "epoch 81: loss = 629.2859\n",
            "epoch 91: loss = 548.9177\n"
          ]
        }
      ]
    },
    {
      "cell_type": "code",
      "source": [
        "predicted = model(X).detach().numpy()\n",
        "plt.plot(X_numpy,y_numpy,'ro')\n",
        "plt.plot(X_numpy,predicted,'b')\n",
        "plt.show()"
      ],
      "metadata": {
        "colab": {
          "base_uri": "https://localhost:8080/",
          "height": 430
        },
        "id": "iul-Hiw7xpjZ",
        "outputId": "2a3400bf-93b5-481e-ba68-32eff688fdba"
      },
      "execution_count": 40,
      "outputs": [
        {
          "output_type": "display_data",
          "data": {
            "text/plain": [
              "<Figure size 640x480 with 1 Axes>"
            ],
            "image/png": "[encoded data removed]"
          },
          "metadata": {}
        }
      ]
    }
  ]
}