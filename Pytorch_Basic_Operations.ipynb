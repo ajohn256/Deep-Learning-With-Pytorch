{
  "nbformat": 4,
  "nbformat_minor": 0,
  "metadata": {
    "colab": {
      "provenance": [],
      "gpuType": "T4",
      "authorship_tag": "ABX9TyN3yRO4Phh032Q4awIlfVXS",
      "include_colab_link": true
    },
    "kernelspec": {
      "name": "python3",
      "display_name": "Python 3"
    },
    "language_info": {
      "name": "python"
    },
    "accelerator": "GPU"
  },
  "cells": [
    {
      "cell_type": "markdown",
      "metadata": {
        "id": "view-in-github",
        "colab_type": "text"
      },
      "source": [
        "<a href=\"https://colab.research.google.com/github/ajohn256/Deep-Learning-With-Pytorch/blob/main/Pytorch_Basic_Operations.ipynb\" target=\"_parent\"><img src=\"https://colab.research.google.com/assets/colab-badge.svg\" alt=\"Open In Colab\"/></a>"
      ]
    },
    {
      "cell_type": "code",
      "execution_count": 1,
      "metadata": {
        "id": "K7T3nk-_ACMg"
      },
      "outputs": [],
      "source": [
        "import torch"
      ]
    },
    {
      "cell_type": "code",
      "source": [
        "x = torch.rand(3,3)\n",
        "y = torch.rand(9)"
      ],
      "metadata": {
        "id": "rLtwwZfpAVIC"
      },
      "execution_count": 6,
      "outputs": []
    },
    {
      "cell_type": "code",
      "source": [
        "print(x)\n",
        "print(y)"
      ],
      "metadata": {
        "colab": {
          "base_uri": "https://localhost:8080/"
        },
        "id": "BEvLtGG7AVMn",
        "outputId": "23e90c32-53cf-4039-99f6-c9f167fb959d"
      },
      "execution_count": 7,
      "outputs": [
        {
          "output_type": "stream",
          "name": "stdout",
          "text": [
            "tensor([[0.0127, 0.4179, 0.2522],\n",
            "        [0.2679, 0.6096, 0.1074],\n",
            "        [0.6860, 0.1541, 0.2101]])\n",
            "tensor([0.8812, 0.0429, 0.3299, 0.6771, 0.4507, 0.4508, 0.8838, 0.3418, 0.0515])\n"
          ]
        }
      ]
    },
    {
      "cell_type": "code",
      "source": [
        "y = y.reshape(3,3)"
      ],
      "metadata": {
        "id": "c1bXnYaNAVQG"
      },
      "execution_count": 12,
      "outputs": []
    },
    {
      "cell_type": "code",
      "source": [
        "torch.mul(x,y)"
      ],
      "metadata": {
        "colab": {
          "base_uri": "https://localhost:8080/"
        },
        "id": "cOmYQpm6AVT6",
        "outputId": "79c7fb4d-7d7d-4365-96d5-fded2a06b15f"
      },
      "execution_count": 13,
      "outputs": [
        {
          "output_type": "execute_result",
          "data": {
            "text/plain": [
              "tensor([[0.0112, 0.0179, 0.0832],\n",
              "        [0.1814, 0.2747, 0.0484],\n",
              "        [0.6063, 0.0527, 0.0108]])"
            ]
          },
          "metadata": {},
          "execution_count": 13
        }
      ]
    },
    {
      "cell_type": "code",
      "source": [
        "torch.add(x,y)"
      ],
      "metadata": {
        "colab": {
          "base_uri": "https://localhost:8080/"
        },
        "id": "pU4-ZmKWAVWx",
        "outputId": "648425ed-9629-4732-d981-ad2cd2a12d06"
      },
      "execution_count": 14,
      "outputs": [
        {
          "output_type": "execute_result",
          "data": {
            "text/plain": [
              "tensor([[0.8939, 0.4608, 0.5820],\n",
              "        [0.9450, 1.0603, 0.5582],\n",
              "        [1.5698, 0.4959, 0.2617]])"
            ]
          },
          "metadata": {},
          "execution_count": 14
        }
      ]
    },
    {
      "cell_type": "code",
      "source": [
        "torch.sqrt(x)"
      ],
      "metadata": {
        "colab": {
          "base_uri": "https://localhost:8080/"
        },
        "id": "XUOYPfypAVdX",
        "outputId": "a71de972-7ab8-4d1b-be6b-1281be690802"
      },
      "execution_count": 16,
      "outputs": [
        {
          "output_type": "execute_result",
          "data": {
            "text/plain": [
              "tensor([[0.1129, 0.6464, 0.5022],\n",
              "        [0.5176, 0.7808, 0.3276],\n",
              "        [0.8283, 0.3926, 0.4584]])"
            ]
          },
          "metadata": {},
          "execution_count": 16
        }
      ]
    },
    {
      "cell_type": "code",
      "source": [
        "x%y"
      ],
      "metadata": {
        "colab": {
          "base_uri": "https://localhost:8080/"
        },
        "id": "qp-2T8a2AVgx",
        "outputId": "76243dd2-aca3-4356-f131-c44c6f4c5aea"
      },
      "execution_count": 17,
      "outputs": [
        {
          "output_type": "execute_result",
          "data": {
            "text/plain": [
              "tensor([[0.0127, 0.0316, 0.2522],\n",
              "        [0.2679, 0.1589, 0.1074],\n",
              "        [0.6860, 0.1541, 0.0040]])"
            ]
          },
          "metadata": {},
          "execution_count": 17
        }
      ]
    },
    {
      "cell_type": "code",
      "source": [
        "x.mul_(y) + torch.sqrt(x)"
      ],
      "metadata": {
        "colab": {
          "base_uri": "https://localhost:8080/"
        },
        "id": "tKEuvVj3AVj_",
        "outputId": "f2cb33cb-3de8-44df-8554-b781e87492a1"
      },
      "execution_count": 21,
      "outputs": [
        {
          "output_type": "execute_result",
          "data": {
            "text/plain": [
              "tensor([[0.0954, 0.0012, 0.0576],\n",
              "        [0.2936, 0.1837, 0.0710],\n",
              "        [1.0655, 0.0480, 0.0012]])"
            ]
          },
          "metadata": {},
          "execution_count": 21
        }
      ]
    },
    {
      "cell_type": "code",
      "source": [
        "x"
      ],
      "metadata": {
        "colab": {
          "base_uri": "https://localhost:8080/"
        },
        "id": "8IFNMgxiAVnI",
        "outputId": "38d1e2f6-5602-4770-879c-38e87efd00ee"
      },
      "execution_count": 22,
      "outputs": [
        {
          "output_type": "execute_result",
          "data": {
            "text/plain": [
              "tensor([[7.6864e-03, 1.4183e-06, 2.9856e-03],\n",
              "        [5.6320e-02, 2.5150e-02, 4.4338e-03],\n",
              "        [4.1855e-01, 2.1030e-03, 1.4824e-06]])"
            ]
          },
          "metadata": {},
          "execution_count": 22
        }
      ]
    },
    {
      "cell_type": "code",
      "source": [
        "x[1,:-1]"
      ],
      "metadata": {
        "colab": {
          "base_uri": "https://localhost:8080/"
        },
        "id": "l9Bhse6bAVqA",
        "outputId": "49dabeb3-d027-439e-f057-1679f2f254f7"
      },
      "execution_count": 26,
      "outputs": [
        {
          "output_type": "execute_result",
          "data": {
            "text/plain": [
              "tensor([0.0563, 0.0251])"
            ]
          },
          "metadata": {},
          "execution_count": 26
        }
      ]
    },
    {
      "cell_type": "code",
      "source": [
        "x[1,1].item()"
      ],
      "metadata": {
        "colab": {
          "base_uri": "https://localhost:8080/"
        },
        "id": "SStGX6ZJEU4p",
        "outputId": "93e8debe-07e3-4025-eaff-72b10f0ca1c3"
      },
      "execution_count": 28,
      "outputs": [
        {
          "output_type": "execute_result",
          "data": {
            "text/plain": [
              "0.025149736553430557"
            ]
          },
          "metadata": {},
          "execution_count": 28
        }
      ]
    },
    {
      "cell_type": "code",
      "source": [
        "#reshaping tensors"
      ],
      "metadata": {
        "id": "xQ3Cw0aCEU8m"
      },
      "execution_count": null,
      "outputs": []
    },
    {
      "cell_type": "code",
      "source": [
        "y"
      ],
      "metadata": {
        "colab": {
          "base_uri": "https://localhost:8080/"
        },
        "id": "L1mA2LUcEU_g",
        "outputId": "fedc2b74-52f5-415a-f247-7cf3182e69c0"
      },
      "execution_count": 29,
      "outputs": [
        {
          "output_type": "execute_result",
          "data": {
            "text/plain": [
              "tensor([[0.8812, 0.0429, 0.3299],\n",
              "        [0.6771, 0.4507, 0.4508],\n",
              "        [0.8838, 0.3418, 0.0515]])"
            ]
          },
          "metadata": {},
          "execution_count": 29
        }
      ]
    },
    {
      "cell_type": "code",
      "source": [
        "y.view(-1)#1d"
      ],
      "metadata": {
        "colab": {
          "base_uri": "https://localhost:8080/"
        },
        "id": "TbguldEtEgCt",
        "outputId": "6a9510d7-d8ee-4324-acdd-304bec166243"
      },
      "execution_count": 32,
      "outputs": [
        {
          "output_type": "execute_result",
          "data": {
            "text/plain": [
              "tensor([0.8812, 0.0429, 0.3299, 0.6771, 0.4507, 0.4508, 0.8838, 0.3418, 0.0515])"
            ]
          },
          "metadata": {},
          "execution_count": 32
        }
      ]
    },
    {
      "cell_type": "code",
      "source": [
        "y.view(-1,3)"
      ],
      "metadata": {
        "colab": {
          "base_uri": "https://localhost:8080/"
        },
        "id": "GKNeyVHmEgGJ",
        "outputId": "1f2e1876-f1fc-4d2c-8edc-476cece4f3fa"
      },
      "execution_count": 33,
      "outputs": [
        {
          "output_type": "execute_result",
          "data": {
            "text/plain": [
              "tensor([[0.8812, 0.0429, 0.3299],\n",
              "        [0.6771, 0.4507, 0.4508],\n",
              "        [0.8838, 0.3418, 0.0515]])"
            ]
          },
          "metadata": {},
          "execution_count": 33
        }
      ]
    },
    {
      "cell_type": "code",
      "source": [
        "x.view(-1,9)"
      ],
      "metadata": {
        "colab": {
          "base_uri": "https://localhost:8080/"
        },
        "id": "avMqXsgPEgKA",
        "outputId": "d28e3f3a-1407-4584-809f-fccb19bc81e8"
      },
      "execution_count": 34,
      "outputs": [
        {
          "output_type": "execute_result",
          "data": {
            "text/plain": [
              "tensor([[7.6864e-03, 1.4183e-06, 2.9856e-03, 5.6320e-02, 2.5150e-02, 4.4338e-03,\n",
              "         4.1855e-01, 2.1030e-03, 1.4824e-06]])"
            ]
          },
          "metadata": {},
          "execution_count": 34
        }
      ]
    },
    {
      "cell_type": "code",
      "source": [
        "#convert numy to tensor"
      ],
      "metadata": {
        "id": "-Xm-zFLwEgNf"
      },
      "execution_count": null,
      "outputs": []
    },
    {
      "cell_type": "code",
      "source": [
        "import numpy as np"
      ],
      "metadata": {
        "id": "LRXpax2NE35D"
      },
      "execution_count": 35,
      "outputs": []
    },
    {
      "cell_type": "code",
      "source": [
        "arr = torch.ones(5)"
      ],
      "metadata": {
        "id": "9Wkm5mXOE38d"
      },
      "execution_count": 38,
      "outputs": []
    },
    {
      "cell_type": "code",
      "source": [
        "arr"
      ],
      "metadata": {
        "colab": {
          "base_uri": "https://localhost:8080/"
        },
        "id": "c8Et1EkdE4Bs",
        "outputId": "89eb5d75-fc91-470a-ad4c-512435fed977"
      },
      "execution_count": 39,
      "outputs": [
        {
          "output_type": "execute_result",
          "data": {
            "text/plain": [
              "tensor([1., 1., 1., 1., 1.])"
            ]
          },
          "metadata": {},
          "execution_count": 39
        }
      ]
    },
    {
      "cell_type": "code",
      "source": [
        "x = arr.numpy()#tensor to numpy"
      ],
      "metadata": {
        "id": "GTuV5miAE4IY"
      },
      "execution_count": 40,
      "outputs": []
    },
    {
      "cell_type": "code",
      "source": [
        "x"
      ],
      "metadata": {
        "colab": {
          "base_uri": "https://localhost:8080/"
        },
        "id": "vInJjoKuFccV",
        "outputId": "83bc5c8e-8db9-46fd-875c-d93e9c3778ce"
      },
      "execution_count": 41,
      "outputs": [
        {
          "output_type": "execute_result",
          "data": {
            "text/plain": [
              "array([1., 1., 1., 1., 1.], dtype=float32)"
            ]
          },
          "metadata": {},
          "execution_count": 41
        }
      ]
    },
    {
      "cell_type": "code",
      "source": [
        "#numpy to tensor\n",
        "y = torch.from_numpy(x)"
      ],
      "metadata": {
        "id": "-TLmkVIaFcf9"
      },
      "execution_count": 42,
      "outputs": []
    },
    {
      "cell_type": "code",
      "source": [
        "y"
      ],
      "metadata": {
        "colab": {
          "base_uri": "https://localhost:8080/"
        },
        "id": "PUCBVwWJFnv5",
        "outputId": "d43147ba-189e-42d4-8821-317717b7de32"
      },
      "execution_count": 43,
      "outputs": [
        {
          "output_type": "execute_result",
          "data": {
            "text/plain": [
              "tensor([1., 1., 1., 1., 1.])"
            ]
          },
          "metadata": {},
          "execution_count": 43
        }
      ]
    },
    {
      "cell_type": "code",
      "source": [],
      "metadata": {
        "id": "7BzquE9QFnzV"
      },
      "execution_count": null,
      "outputs": []
    },
    {
      "cell_type": "code",
      "source": [],
      "metadata": {
        "id": "ro341RRDGlrY"
      },
      "execution_count": null,
      "outputs": []
    },
    {
      "cell_type": "code",
      "source": [],
      "metadata": {
        "id": "Xq3s4lAgGlu4"
      },
      "execution_count": null,
      "outputs": []
    },
    {
      "cell_type": "code",
      "source": [],
      "metadata": {
        "id": "7MoqVQr_Glyl"
      },
      "execution_count": null,
      "outputs": []
    }
  ]
}